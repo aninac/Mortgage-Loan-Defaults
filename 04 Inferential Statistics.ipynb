{
 "cells": [
  {
   "cell_type": "code",
   "execution_count": 1,
   "metadata": {},
   "outputs": [],
   "source": [
    "# import pertinent modules\n",
    "import numpy as np\n",
    "import pandas as pd\n",
    "import time\n",
    "from datetime import datetime\n",
    "import copy\n",
    "import matplotlib.pyplot as plt\n",
    "import seaborn as sns"
   ]
  },
  {
   "cell_type": "markdown",
   "metadata": {},
   "source": [
    "The Sallie Mae loan dataset for single family loans acquired in the 4th quarter of 2008 has just under 280k closed accounts with seven different closure reason codes. The vast majority of the accounts were closed through prepaid or early payoff of the loans. Closures classified as REO, real estate owned, are those in which the borrower(s) defaulted and were foreclosed by Fannie Mae. There is a belief that the REO closures have borrowers with initial credit scores on average that are lower than the borrowers who prepaid their accounts. The null hypothesis is that there is no difference between borrower credit scores that were foreclosed (REO loans) and those loans that were prepaid."
   ]
  },
  {
   "cell_type": "code",
   "execution_count": 2,
   "metadata": {},
   "outputs": [],
   "source": [
    "#import data previously saved from data wrangling exercise\n",
    "df_import = pd.read_csv(r'C:\\Users\\Nikki\\Temp\\df.txt', sep = \"|\") \n",
    "\n",
    "#Google Drive Link\n",
    "#https://drive.google.com/file/d/1SLtZIyWOzeRoI4onftNqkPq8pQMuinmX/view?usp=sharing"
   ]
  },
  {
   "cell_type": "code",
   "execution_count": 3,
   "metadata": {},
   "outputs": [
    {
     "name": "stdout",
     "output_type": "stream",
     "text": [
      "There are 292705 closed accounts and 22291 open accounts.\n"
     ]
    }
   ],
   "source": [
    "# Determine the number accounts that are currently open and those that are closed along with reason code for closure\n",
    "\n",
    "# Total number of accounts\n",
    "no_loans = len(df_import['Loan_ID'].value_counts())\n",
    "# Number of closed accounts\n",
    "df_closed = pd.DataFrame()\n",
    "df_closed = copy.deepcopy(df_import[df_import['Zero_Balance_Code'].notna()])\n",
    "no_closed = len(df_closed)\n",
    "# Number of open accounts\n",
    "no_open = no_loans - no_closed\n",
    "print('There are ' + str(no_closed) + ' closed accounts and ' + str(no_open) + ' open accounts.')\n"
   ]
  },
  {
   "cell_type": "code",
   "execution_count": 4,
   "metadata": {},
   "outputs": [
    {
     "name": "stdout",
     "output_type": "stream",
     "text": [
      "{1.0: 279993, 9.0: 7022, 3.0: 2073, 6.0: 1879, 16.0: 635, 2.0: 602, 15.0: 501}\n"
     ]
    }
   ],
   "source": [
    "# Group by and count number of borrowers and store in dictionary\n",
    "status = df_import['Zero_Balance_Code'].value_counts().to_dict()\n",
    "print(status)"
   ]
  },
  {
   "cell_type": "code",
   "execution_count": 5,
   "metadata": {},
   "outputs": [
    {
     "name": "stdout",
     "output_type": "stream",
     "text": [
      "[1.0, 9.0, 3.0, 6.0, 16.0, 2.0, 15.0]\n"
     ]
    }
   ],
   "source": [
    "# Save Zero Balance Codes to a list for future use in bar chart\n",
    "order = list(status.keys())\n",
    "print(order)"
   ]
  },
  {
   "cell_type": "code",
   "execution_count": 6,
   "metadata": {},
   "outputs": [
    {
     "data": {
      "text/plain": [
       "{'prepaid': 279993,\n",
       " '3rd party sale': 602,\n",
       " 'short sale': 2073,\n",
       " 'repurchased': 1879,\n",
       " 'REO': 7022,\n",
       " 'note sale': 501,\n",
       " 'reperformance': 635}"
      ]
     },
     "execution_count": 6,
     "metadata": {},
     "output_type": "execute_result"
    }
   ],
   "source": [
    "# Reassign Zero Balance Codes to descriptive identifiers\n",
    "status['prepaid'] = status.pop(1.0)\n",
    "status['3rd party sale'] = status.pop(2.0)\n",
    "status['short sale'] = status.pop(3.0)\n",
    "status['repurchased'] = status.pop(6.0)\n",
    "status['REO'] = status.pop(9.0)\n",
    "status['note sale'] = status.pop(15.0)\n",
    "status['reperformance'] = status.pop(16.0)\n",
    "\n",
    "# Check reassigned keys in dictionary\n",
    "status"
   ]
  },
  {
   "cell_type": "code",
   "execution_count": 7,
   "metadata": {},
   "outputs": [],
   "source": [
    "# Sort dictionary by values in decreasing order, store keys in dictionary to be later used in boxplot\n",
    "status_sorted = sorted(status.items(), key=lambda x: x[1])\n",
    "ylabels = sorted(status.items(), key=lambda x: x[1], reverse=True)"
   ]
  },
  {
   "cell_type": "code",
   "execution_count": 8,
   "metadata": {},
   "outputs": [],
   "source": [
    "# Create DataFrame for each of three of the Zero Balance Codes\n",
    "df_prepaid = df_closed[(df_closed['Zero_Balance_Code'] == 1)]\n",
    "df_reo = df_closed[(df_closed['Zero_Balance_Code'] == 9)]"
   ]
  },
  {
   "cell_type": "code",
   "execution_count": 20,
   "metadata": {},
   "outputs": [
    {
     "name": "stdout",
     "output_type": "stream",
     "text": [
      "Closed accounts standard deviation is: 48.84120717760842\n",
      "Closed accounts median is: 761.0\n",
      "Closed accounts mean is: 749.3492594933465\n"
     ]
    }
   ],
   "source": [
    "# Descriptive summary statitics of closed accounts\n",
    "pop_std = np.std(df_closed.Borrower_Credit_Score)\n",
    "print('Closed accounts standard deviation is:', pop_std)\n",
    "pop_median = np.median(df_closed.Borrower_Credit_Score)\n",
    "print('Closed accounts median is:',pop_median)\n",
    "pop_mean = np.mean(df_closed.Borrower_Credit_Score)\n",
    "print('Closed accounts mean is:',pop_mean)"
   ]
  },
  {
   "cell_type": "code",
   "execution_count": 21,
   "metadata": {},
   "outputs": [
    {
     "name": "stdout",
     "output_type": "stream",
     "text": [
      "Prepaid standard deviation is: 47.884094782920116\n",
      "Prepaid median is: 763.0\n",
      "Prepaid mean is: 751.1224602043623\n"
     ]
    }
   ],
   "source": [
    "# Descriptive summary statistics of prepaid accounts\n",
    "pop_std = np.std(df_prepaid.Borrower_Credit_Score)\n",
    "print('Prepaid standard deviation is:', pop_std)\n",
    "pop_median = np.median(df_prepaid.Borrower_Credit_Score)\n",
    "print('Prepaid median is:',pop_median)\n",
    "pop_mean = np.mean(df_prepaid.Borrower_Credit_Score)\n",
    "print('Prepaid mean is:',pop_mean)"
   ]
  },
  {
   "cell_type": "code",
   "execution_count": 22,
   "metadata": {
    "scrolled": true
   },
   "outputs": [
    {
     "name": "stdout",
     "output_type": "stream",
     "text": [
      "REO standard deviation is: 52.917908783472654\n",
      "REO median is: 710.0\n",
      "REO mean is: 708.9077185986898\n"
     ]
    }
   ],
   "source": [
    "# Descriptive summary statistics of REO accounts\n",
    "pop_std = np.std(df_reo.Borrower_Credit_Score)\n",
    "print('REO standard deviation is:', pop_std)\n",
    "pop_median = np.median(df_reo.Borrower_Credit_Score)\n",
    "print('REO median is:',pop_median)\n",
    "pop_mean = np.mean(df_reo.Borrower_Credit_Score)\n",
    "print('REO mean is:',pop_mean)"
   ]
  },
  {
   "cell_type": "markdown",
   "metadata": {},
   "source": [
    "This distribution in the figure above of REO loans (those that have gone through foreclosure) is left skewed with more values less than the mean."
   ]
  },
  {
   "cell_type": "code",
   "execution_count": 12,
   "metadata": {
    "scrolled": true
   },
   "outputs": [
    {
     "data": {
      "image/png": "[encoded data removed]",
      "text/plain": [
       "<Figure size 432x288 with 1 Axes>"
      ]
     },
     "metadata": {
      "needs_background": "light"
     },
     "output_type": "display_data"
    }
   ],
   "source": [
    "# Plot of distribution of borrower credit scores of REO loans\n",
    "_ = plt.hist(df_reo['Borrower_Credit_Score'], color='mediumblue')\n",
    "_ = plt.xlabel('credit score')\n",
    "_ = plt.ylabel('number of loans')\n",
    "_ = plt.title('Distribution of REO credit scores')\n",
    "_ = plt.axvline(pop_mean, color='r')\n",
    "_ = plt.axvline(pop_mean + 3 * pop_std, color='r', linestyle='--')\n",
    "_ = plt.axvline(pop_mean - 3 * pop_std, color='r', linestyle='--')"
   ]
  },
  {
   "cell_type": "markdown",
   "metadata": {},
   "source": [
    "Bootstrapping will be used to compare the difference between REO loans and those that were prepaid."
   ]
  },
  {
   "cell_type": "code",
   "execution_count": 13,
   "metadata": {},
   "outputs": [],
   "source": [
    "# Create function that randomly samples with replacement \n",
    "def bootstrap_replicate(data, func):\n",
    "    \"\"\"Select random sample without replacement and apply designated function on sample\"\"\"\n",
    "    bs_sample = np.random.choice(data, size=len(data))\n",
    "    return func(bs_sample)"
   ]
  },
  {
   "cell_type": "code",
   "execution_count": 14,
   "metadata": {},
   "outputs": [
    {
     "name": "stdout",
     "output_type": "stream",
     "text": [
      "The 2.5 percentile of the difference between prepaid mean and REO mean is 40.97001997119346\n",
      "The 97.5 percentile of the difference between prepaid mean and REO mean is 43.48122349525717\n",
      "Array of sampling of the difference between prepaid mean and REO mean is [42.45383054 43.01192334 43.27517894 ... 42.10085414 42.16101071\n",
      " 42.02547022]\n"
     ]
    }
   ],
   "source": [
    "# Loop through 10,000 times and find the difference between mean of loans that were prepaid and those that foreclosed\n",
    "size = 10000\n",
    "bs_delta = np.empty(size)\n",
    "for i in range(size):\n",
    "    reo_loans = bootstrap_replicate(df_reo.Borrower_Credit_Score, np.mean)\n",
    "    prepaid_loans = bootstrap_replicate(df_prepaid.Borrower_Credit_Score, np.mean)\n",
    "    bs_delta[i] = prepaid_loans - reo_loans\n",
    "lower_limit, upper_limit = np.percentile(bs_delta,[2.5, 97.5])\n",
    "print('The 2.5 percentile of the difference between prepaid mean and REO mean is', lower_limit)\n",
    "print('The 97.5 percentile of the difference between prepaid mean and REO mean is', upper_limit)\n",
    "print('Array of sampling of the difference between prepaid mean and REO mean is', bs_delta)"
   ]
  },
  {
   "cell_type": "code",
   "execution_count": 15,
   "metadata": {
    "scrolled": true
   },
   "outputs": [
    {
     "data": {
      "image/png": "[encoded data removed]",
      "text/plain": [
       "<Figure size 432x288 with 1 Axes>"
      ]
     },
     "metadata": {
      "needs_background": "light"
     },
     "output_type": "display_data"
    }
   ],
   "source": [
    "# Plot samples of prepaid - REO borrower credit scores in histgram and include percentiles\n",
    "plt.hist(bs_delta, color='mediumblue')\n",
    "plt.axvline(x=lower_limit, color='red')\n",
    "plt.axvline(x=upper_limit, color='red')\n",
    "plt.xlabel('prepaid - REO borrower credit score')\n",
    "plt.ylabel('Count')\n",
    "plt.title('Mean Deltas of Borrower Credit Scores')\n",
    "plt.text(lower_limit-1.2, 2500, '2.5 PCTL=' + str(round(lower_limit,1)))\n",
    "plt.text(upper_limit+.02, 2500, '97.5 PCTL=' + str(round(upper_limit,1)))\n",
    "plt.show()"
   ]
  },
  {
   "cell_type": "code",
   "execution_count": 16,
   "metadata": {},
   "outputs": [],
   "source": [
    "# Combine and permute two datasets\n",
    "def permutation_sample(data1, data2, func):\n",
    "    \"\"\"Generate a permutation sample from the two datasets.\"\"\"\n",
    "\n",
    "    # Concatenate the data sets: data\n",
    "    data = np.concatenate((data1, data2))\n",
    "\n",
    "    # Permute the concatenated array: permuted_data\n",
    "    permuted_data = np.random.permutation(data)\n",
    "\n",
    "    # Split the permuted array into two: perm_sample_1, perm_sample_2\n",
    "    perm_sample_1 = permuted_data[:len(data1)]\n",
    "    perm_sample_2 = permuted_data[len(data1):]\n",
    "\n",
    "    diff = func(perm_sample_1, perm_sample_2)\n",
    "\n",
    "    return diff"
   ]
  },
  {
   "cell_type": "code",
   "execution_count": 17,
   "metadata": {},
   "outputs": [],
   "source": [
    "# Take difference of means between two datasets \n",
    "def diff_of_mean(perm_sample_1, perm_sample_2):\n",
    "    \"\"\"Difference of mean of two arrays.\"\"\"\n",
    "\n",
    "    # The difference of means of data_1, data_2: diff\n",
    "    diff = np.mean(perm_sample_1) - np.mean(perm_sample_2)\n",
    "    \n",
    "    return diff"
   ]
  },
  {
   "cell_type": "code",
   "execution_count": 18,
   "metadata": {},
   "outputs": [
    {
     "name": "stdout",
     "output_type": "stream",
     "text": [
      "[ 0.06892623 -0.3422102  -0.49473085 ...  0.25761891  0.27912276\n",
      "  1.43961834]\n"
     ]
    }
   ],
   "source": [
    "# Loop through and find the delta between prepaid borrowers credit score and REO credit scores\n",
    "perm_replicates = np.empty(size)\n",
    "reo_data = np.array(df_reo.Borrower_Credit_Score) \n",
    "\n",
    "for i in range(size):\n",
    "    perm_replicates[i] = permutation_sample(\n",
    "        reo_data, np.random.choice(np.array(df_prepaid.Borrower_Credit_Score), \n",
    "                                   len(reo_data)), diff_of_mean)\n",
    "print(perm_replicates)"
   ]
  },
  {
   "cell_type": "code",
   "execution_count": 19,
   "metadata": {},
   "outputs": [
    {
     "data": {
      "text/plain": [
       "0.0"
      ]
     },
     "execution_count": 19,
     "metadata": {},
     "output_type": "execute_result"
    }
   ],
   "source": [
    "# Determine p-value for null hypothesis\n",
    "p = np.sum(abs(perm_replicates) >= np.mean(bs_delta)) / len(perm_replicates)\n",
    "p"
   ]
  },
  {
   "cell_type": "markdown",
   "metadata": {},
   "source": [
    "The null hypothesis that there is no difference between borrower credit scores and those that were foreclosed (REO loans) is rejected since the p-value is zero which is <.05."
   ]
  }
 ],
 "metadata": {
  "kernelspec": {
   "display_name": "Python 3",
   "language": "python",
   "name": "python3"
  },
  "language_info": {
   "codemirror_mode": {
    "name": "ipython",
    "version": 3
   },
   "file_extension": ".py",
   "mimetype": "text/x-python",
   "name": "python",
   "nbconvert_exporter": "python",
   "pygments_lexer": "ipython3",
   "version": "3.7.3"
  }
 },
 "nbformat": 4,
 "nbformat_minor": 2
}
